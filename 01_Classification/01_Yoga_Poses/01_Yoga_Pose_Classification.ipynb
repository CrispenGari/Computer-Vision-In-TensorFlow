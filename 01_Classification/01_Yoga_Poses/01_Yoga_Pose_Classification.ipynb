{
 "cells": [
  {
   "cell_type": "markdown",
   "id": "infinite-microphone",
   "metadata": {},
   "source": [
    "### Yogo Posses Classification - TensorFlow Model + Transfare Leaning `VGG19`\n",
    "In this **notebook** we are going to create a **NN** that classify different Yoga Poses.\n",
    "\n",
    "* Dataset [download](https://www.kaggle.com/niharika41298/yoga-poses-dataset)."
   ]
  },
  {
   "cell_type": "markdown",
   "id": "short-carol",
   "metadata": {},
   "source": [
    "### Imports"
   ]
  },
  {
   "cell_type": "code",
   "execution_count": 1,
   "id": "awful-district",
   "metadata": {},
   "outputs": [],
   "source": [
    "import tensorflow as tf\n",
    "from tensorflow import keras\n",
    "from tensorflow.keras.preprocessing import image\n",
    "import numpy as np\n",
    "import os, shutil\n",
    "import matplotlib.pyplot as plt"
   ]
  },
  {
   "cell_type": "markdown",
   "id": "nearby-burner",
   "metadata": {},
   "source": [
    "### Data Preparation\n",
    "\n",
    "File Structures\n",
    "\n",
    "```py\n",
    "DATASET\n",
    "    TRAIN\n",
    "        - downdog\n",
    "            -\n",
    "        - goddess\n",
    "            -\n",
    "        - plank\n",
    "            -\n",
    "        - tree\n",
    "            -\n",
    "        - warrior2\n",
    "            -\n",
    "    TEST\n",
    "        - downdog\n",
    "            -\n",
    "        - goddess\n",
    "            -\n",
    "        - plank\n",
    "            -\n",
    "        - tree\n",
    "            -\n",
    "        - warrior2\n",
    "            -\n",
    "            \n",
    "Key:\n",
    "- = images\n",
    "```"
   ]
  },
  {
   "cell_type": "code",
   "execution_count": 2,
   "id": "derived-elephant",
   "metadata": {},
   "outputs": [],
   "source": [
    "class Paths:\n",
    "    ROOT = \"DATASET\"\n",
    "    TRAIN = \"DATASET/TRAIN\"\n",
    "    TEST = \"DATASET/TEST\""
   ]
  },
  {
   "cell_type": "markdown",
   "id": "conventional-battery",
   "metadata": {},
   "source": [
    "### Creating Image Data Generator for both `train` and `test` datasets."
   ]
  },
  {
   "cell_type": "code",
   "execution_count": 69,
   "id": "anticipated-trading",
   "metadata": {},
   "outputs": [],
   "source": [
    "datagen = image.ImageDataGenerator(\n",
    "    rescale=1.0 / 255,\n",
    "    data_format=\"channels_last\",\n",
    "    dtype=tf.float32,\n",
    ")"
   ]
  },
  {
   "cell_type": "markdown",
   "id": "charming-tumor",
   "metadata": {},
   "source": [
    "### Creating `test` and `train` datasets."
   ]
  },
  {
   "cell_type": "code",
   "execution_count": 106,
   "id": "addressed-pierre",
   "metadata": {},
   "outputs": [
    {
     "name": "stdout",
     "output_type": "stream",
     "text": [
      "Found 1039 images belonging to 5 classes.\n",
      "Found 470 images belonging to 5 classes.\n"
     ]
    }
   ],
   "source": [
    "train_ds = datagen.flow_from_directory(\n",
    "    Paths.TRAIN,\n",
    "    target_size=(96, 96),\n",
    "    batch_size=32,\n",
    "    #color_mode=\"grayscale\",\n",
    "    class_mode=\"categorical\",\n",
    "    shuffle=True,\n",
    "    seed=42,\n",
    ")\n",
    "\n",
    "test_ds = datagen.flow_from_directory(\n",
    "    Paths.TEST,\n",
    "    target_size=(96, 96),\n",
    "    batch_size=32,\n",
    "#   color_mode=\"grayscale\",\n",
    "    class_mode=\"categorical\",\n",
    "    shuffle=True,\n",
    "    seed=42,\n",
    ")"
   ]
  },
  {
   "cell_type": "code",
   "execution_count": 31,
   "id": "designed-oakland",
   "metadata": {},
   "outputs": [
    {
     "data": {
      "text/plain": [
       "{'downdog': 0, 'goddess': 1, 'plank': 2, 'tree': 3, 'warrior2': 4}"
      ]
     },
     "execution_count": 31,
     "metadata": {},
     "output_type": "execute_result"
    }
   ],
   "source": [
    "train_ds.class_indices"
   ]
  },
  {
   "cell_type": "code",
   "execution_count": 107,
   "id": "industrial-frontier",
   "metadata": {},
   "outputs": [],
   "source": [
    "batch= iter(train_ds).__next__()"
   ]
  },
  {
   "cell_type": "code",
   "execution_count": 108,
   "id": "color-yemen",
   "metadata": {},
   "outputs": [
    {
     "data": {
      "image/png": "[encoded data removed]",
      "text/plain": [
       "<Figure size 432x288 with 1 Axes>"
      ]
     },
     "metadata": {
      "needs_background": "light"
     },
     "output_type": "display_data"
    },
    {
     "data": {
      "text/plain": [
       "array([[0., 1., 0., 0., 0.],\n",
       "       [0., 0., 0., 0., 1.],\n",
       "       [0., 1., 0., 0., 0.],\n",
       "       [1., 0., 0., 0., 0.],\n",
       "       [0., 0., 1., 0., 0.],\n",
       "       [1., 0., 0., 0., 0.],\n",
       "       [0., 0., 0., 0., 1.],\n",
       "       [1., 0., 0., 0., 0.],\n",
       "       [0., 0., 0., 0., 1.],\n",
       "       [0., 0., 0., 0., 1.],\n",
       "       [0., 0., 0., 0., 1.],\n",
       "       [0., 1., 0., 0., 0.],\n",
       "       [0., 0., 0., 0., 1.],\n",
       "       [0., 1., 0., 0., 0.],\n",
       "       [0., 0., 0., 0., 1.],\n",
       "       [0., 0., 0., 0., 1.],\n",
       "       [1., 0., 0., 0., 0.],\n",
       "       [0., 0., 0., 0., 1.],\n",
       "       [0., 0., 0., 0., 1.],\n",
       "       [1., 0., 0., 0., 0.]], dtype=float32)"
      ]
     },
     "execution_count": 108,
     "metadata": {},
     "output_type": "execute_result"
    }
   ],
   "source": [
    "plt.imshow(batch[0][20], cmap=\"gray\")\n",
    "plt.show()\n",
    "batch[1][:20]"
   ]
  },
  {
   "cell_type": "markdown",
   "id": "respiratory-arnold",
   "metadata": {},
   "source": [
    "### `NN` achitecture.\n",
    "\n",
    "```\n",
    "        [ ConvBlock ] -> Conv2D -> BatchNormalization -> ReLU \n",
    "             |\n",
    "             |\n",
    "        [Flatten Layer / GlobalMaxPooling2D]\n",
    "             |\n",
    "        [Output Block] -> Dense Layers\n",
    "\n",
    "```"
   ]
  },
  {
   "cell_type": "code",
   "execution_count": 109,
   "id": "graphic-buddy",
   "metadata": {},
   "outputs": [],
   "source": [
    "class ConvBlock(keras.layers.Layer):\n",
    "    def __init__(self, in_features, kernel_size=(3, 3)):\n",
    "        super(ConvBlock, self).__init__()\n",
    "        self.conv = keras.layers.Conv2D(in_features, kernel_size, padding=\"same\", input_shape=(96, 96, 3))\n",
    "        self.bn = keras.layers.BatchNormalization()\n",
    "        self.relu = keras.activations.relu\n",
    "        \n",
    "    def call(self, x, training=False):\n",
    "        x = self.conv(x)\n",
    "        x = self.bn(x, training=training)\n",
    "        return self.relu(x)"
   ]
  },
  {
   "cell_type": "markdown",
   "id": "graduate-force",
   "metadata": {},
   "source": [
    "### A ``Sequential`` Model."
   ]
  },
  {
   "cell_type": "code",
   "execution_count": 110,
   "id": "opposite-arnold",
   "metadata": {},
   "outputs": [
    {
     "name": "stdout",
     "output_type": "stream",
     "text": [
      "Model: \"seq_model\"\n",
      "_________________________________________________________________\n",
      "Layer (type)                 Output Shape              Param #   \n",
      "=================================================================\n",
      "conv_block (ConvBlock)       (None, 96, 96, 64)        2048      \n",
      "_________________________________________________________________\n",
      "conv_block_1 (ConvBlock)     (None, 96, 96, 128)       74368     \n",
      "_________________________________________________________________\n",
      "conv_block_2 (ConvBlock)     (None, 96, 96, 64)        74048     \n",
      "_________________________________________________________________\n",
      "flatten_1 (Flatten)          (None, 589824)            0         \n",
      "_________________________________________________________________\n",
      "dense_1 (Dense)              (None, 64)                37748800  \n",
      "_________________________________________________________________\n",
      "dense_2 (Dense)              (None, 128)               8320      \n",
      "_________________________________________________________________\n",
      "dense_3 (Dense)              (None, 64)                8256      \n",
      "_________________________________________________________________\n",
      "dense_4 (Dense)              (None, 5)                 325       \n",
      "=================================================================\n",
      "Total params: 37,916,165\n",
      "Trainable params: 37,915,653\n",
      "Non-trainable params: 512\n",
      "_________________________________________________________________\n"
     ]
    }
   ],
   "source": [
    "seq_model = keras.Sequential([\n",
    "    ConvBlock(64),\n",
    "    ConvBlock(128),\n",
    "    ConvBlock(64),\n",
    "    keras.layers.Flatten(),\n",
    "    keras.layers.Dense(64, activation='relu'),\n",
    "    keras.layers.Dense(128, activation='relu'),\n",
    "    keras.layers.Dense(64, activation='relu'),\n",
    "    keras.layers.Dense(5, activation='softmax'),\n",
    "], name=\"seq_model\")\n",
    "\n",
    "seq_model.build((None, 96, 96, 3))\n",
    "seq_model.summary()"
   ]
  },
  {
   "cell_type": "markdown",
   "id": "built-donna",
   "metadata": {},
   "source": [
    "### ``Sub-classing`` Model."
   ]
  },
  {
   "cell_type": "code",
   "execution_count": 111,
   "id": "improved-pasta",
   "metadata": {},
   "outputs": [],
   "source": [
    "class YogaNet(keras.Model):\n",
    "    def __init__(self, in_features=np.array([64, 128, 64]), n_classes=5):\n",
    "        super(YogaNet, self).__init__()\n",
    "        self.conv_block_1 = ConvBlock(in_features[0])\n",
    "        self.conv_block_2 = ConvBlock(in_features[1])\n",
    "        self.conv_block_3 = ConvBlock(in_features[2])\n",
    "        self.flatten = keras.layers.Flatten()\n",
    "        self.dense_1 = keras.layers.Dense(in_features[0], activation='relu')\n",
    "        self.dense_2 = keras.layers.Dense(in_features[1], activation='relu')\n",
    "        self.dense_3 = keras.layers.Dense(in_features[2], activation='relu')\n",
    "        self.dense_4 = keras.layers.Dense(n_classes, activation='softmax')\n",
    "        \n",
    "    def call(self, x, training=False):\n",
    "        x = self.conv_block_1(x, training=training)\n",
    "        x = self.conv_block_2(x, training=training)\n",
    "        x = self.conv_block_3(x, training=training)\n",
    "        \n",
    "        x = self.flatten(x)\n",
    "        x = self.dense_1(x)\n",
    "        x = self.dense_2(x)\n",
    "        x = self.dense_3(x)\n",
    "        return self.dense_4(x)\n",
    "    \n",
    "    def model(self):\n",
    "        input_shape = keras.layers.Input((96, 96, 3))\n",
    "        return keras.Model(inputs=[input_shape], outputs=self.call(input_shape))\n",
    "        "
   ]
  },
  {
   "cell_type": "code",
   "execution_count": 47,
   "id": "affiliated-jefferson",
   "metadata": {},
   "outputs": [
    {
     "name": "stdout",
     "output_type": "stream",
     "text": [
      "Model: \"model_11\"\n",
      "_________________________________________________________________\n",
      "Layer (type)                 Output Shape              Param #   \n",
      "=================================================================\n",
      "input_3 (InputLayer)         [(None, 96, 96, 3)]       0         \n",
      "_________________________________________________________________\n",
      "conv_block_18 (ConvBlock)    (None, 96, 96, 64)        2048      \n",
      "_________________________________________________________________\n",
      "conv_block_19 (ConvBlock)    (None, 96, 96, 128)       74368     \n",
      "_________________________________________________________________\n",
      "conv_block_20 (ConvBlock)    (None, 96, 96, 64)        74048     \n",
      "_________________________________________________________________\n",
      "flatten_6 (Flatten)          (None, 589824)            0         \n",
      "_________________________________________________________________\n",
      "dense_24 (Dense)             (None, 64)                37748800  \n",
      "_________________________________________________________________\n",
      "dense_25 (Dense)             (None, 128)               8320      \n",
      "_________________________________________________________________\n",
      "dense_26 (Dense)             (None, 64)                8256      \n",
      "_________________________________________________________________\n",
      "dense_27 (Dense)             (None, 5)                 325       \n",
      "=================================================================\n",
      "Total params: 37,916,165\n",
      "Trainable params: 37,915,653\n",
      "Non-trainable params: 512\n",
      "_________________________________________________________________\n"
     ]
    }
   ],
   "source": [
    "yoga_net = YogaNet()\n",
    "yoga_net.model().summary()"
   ]
  },
  {
   "cell_type": "markdown",
   "id": "wireless-access",
   "metadata": {},
   "source": [
    "### Custom `.fit()`, `.compile()` and `.evaluate()`\n",
    "\n",
    "* Demostrating how we can create our custom `.fit()`, `.compile()` and `.evaluate()`"
   ]
  },
  {
   "cell_type": "code",
   "execution_count": 112,
   "id": "referenced-commission",
   "metadata": {},
   "outputs": [],
   "source": [
    "class Model(keras.Model):\n",
    "    def __init__(self, model):\n",
    "        super().__init__()\n",
    "        self.model = model\n",
    "        \n",
    "    # .compile()\n",
    "    def compile(self, loss, optimizer, metrics):\n",
    "        super().compile()\n",
    "        self.loss = loss\n",
    "        self.optimizer = optimizer\n",
    "        self.custom_metrics = metrics\n",
    "        \n",
    "    # .fit()\n",
    "    def train_step(self, data):\n",
    "        x, y = data\n",
    "        with tf.GradientTape() as tape:\n",
    "            pred = self.model(x, training=True)\n",
    "            loss = self.loss(y, pred)\n",
    "        \n",
    "        gradients = tape.gradient(loss, self.trainable_variables)\n",
    "        optimizer.apply_gradients(zip(gradients, self.trainable_variables))\n",
    "        \n",
    "        self.custom_metrics.update_state(y, pred)\n",
    "        \n",
    "        return {\"loss\": loss, \"accuracy\": self.custom_metrics.result()}\n",
    "        \n",
    "    # .evaluate()\n",
    "    def test_step(self, data):\n",
    "        x, y = data\n",
    "        pred = self.model(x, training=False)\n",
    "        loss = self.loss(y, pred)\n",
    "        self.custom_metrics.update_state(y, pred)\n",
    "        return {\"loss\": loss, \"accuracy\": self.custom_metrics.result()}"
   ]
  },
  {
   "cell_type": "markdown",
   "id": "sized-algorithm",
   "metadata": {},
   "source": [
    "> The custom `.fit()`, `.evaluate()` and `.compile()` does not work on the `SubClassing` API."
   ]
  },
  {
   "cell_type": "markdown",
   "id": "parallel-royal",
   "metadata": {},
   "source": [
    "### Trainning the `yoga_model`"
   ]
  },
  {
   "cell_type": "code",
   "execution_count": 113,
   "id": "intermediate-technical",
   "metadata": {},
   "outputs": [
    {
     "name": "stdout",
     "output_type": "stream",
     "text": [
      "33/33 [==============================] - 415s 12s/step - loss: 10.0642 - acc: 0.2515 - val_loss: 1.7458 - val_acc: 0.1468\n"
     ]
    }
   ],
   "source": [
    "yoga_net.compile(\n",
    "    loss = keras.losses.CategoricalCrossentropy(),\n",
    "    optimizer = keras.optimizers.Adam(lr=0.001),\n",
    "    metrics = keras.metrics.CategoricalAccuracy(name=\"acc\")\n",
    ")\n",
    "\n",
    "BATCH_SIZE = 32\n",
    "\n",
    "lr_reduction = keras.callbacks.ReduceLROnPlateau(\n",
    "    monitor='val_acc', \n",
    "    patience=3, \n",
    "    verbose=1, \n",
    "    factor=0.5, \n",
    "    min_lr=0.00001\n",
    ")\n",
    "\n",
    "early_stopping = keras.callbacks.EarlyStopping(\n",
    "    monitor='val_loss',\n",
    "    min_delta=0,\n",
    "    patience=5,\n",
    "    verbose=0, mode='auto'\n",
    ")\n",
    "\n",
    "history = yoga_net.fit(\n",
    "    train_ds, \n",
    "    shuffle=True,\n",
    "    validation_data = test_ds,\n",
    "    verbose = 1,\n",
    "    batch_size = BATCH_SIZE,\n",
    "    callbacks = [lr_reduction, early_stopping]\n",
    ")"
   ]
  },
  {
   "cell_type": "markdown",
   "id": "pressed-desktop",
   "metadata": {},
   "source": [
    "> We are not able to achive good accuracy on this model, because of a lot of reasons. So we are going to try suing **Transfare Learning** to improve the model accuracy."
   ]
  },
  {
   "cell_type": "markdown",
   "id": "handmade-postage",
   "metadata": {},
   "source": [
    "### Transfare Learning - `VGG19`"
   ]
  },
  {
   "cell_type": "code",
   "execution_count": 91,
   "id": "integrated-array",
   "metadata": {},
   "outputs": [],
   "source": [
    "from tensorflow.keras.applications.vgg16 import VGG16,  preprocess_input\n",
    "from tensorflow.keras.applications import VGG19"
   ]
  },
  {
   "cell_type": "code",
   "execution_count": 92,
   "id": "mobile-acrobat",
   "metadata": {},
   "outputs": [],
   "source": [
    "IMG_H = 200\n",
    "IMG_W = 200\n",
    "IMG_C = 3\n",
    "\n",
    "BATCH_SIZE = 32\n",
    "EPOCHS = 2"
   ]
  },
  {
   "cell_type": "code",
   "execution_count": 103,
   "id": "hindu-greenhouse",
   "metadata": {},
   "outputs": [
    {
     "name": "stdout",
     "output_type": "stream",
     "text": [
      "Found 1039 images belonging to 5 classes.\n",
      "Found 470 images belonging to 5 classes.\n"
     ]
    }
   ],
   "source": [
    "train_set = datagen.flow_from_directory(\n",
    "    Paths.TRAIN,\n",
    "    target_size=(IMG_W, IMG_H),\n",
    "    batch_size=BATCH_SIZE,\n",
    "    #color_mode=\"grayscale\",\n",
    "    class_mode=\"categorical\",\n",
    "    shuffle=True,\n",
    "    seed=42,\n",
    ")\n",
    "\n",
    "test_set = datagen.flow_from_directory(\n",
    "    Paths.TEST,\n",
    "    target_size=(IMG_W, IMG_H),\n",
    "    batch_size=BATCH_SIZE,\n",
    "#   color_mode=\"grayscale\",\n",
    "    class_mode=\"categorical\",\n",
    "    shuffle=True,\n",
    "    seed=42,\n",
    ")"
   ]
  },
  {
   "cell_type": "code",
   "execution_count": 104,
   "id": "willing-tamil",
   "metadata": {},
   "outputs": [],
   "source": [
    "def create_model():\n",
    "    keras.backend.clear_session()\n",
    "    base_model = VGG19(input_shape = (IMG_W, IMG_H, IMG_C), \n",
    "                         weights='imagenet', \n",
    "                         include_top=False,)\n",
    "    \n",
    "    for layer in base_model.layers:\n",
    "        layer.trainable = False\n",
    "    \n",
    "    x = keras.layers.Flatten()(base_model.output)\n",
    "    outputs = keras.layers.Dense(5, activation=\"softmax\")(x)\n",
    "    \n",
    "    model = keras.Model(inputs=base_model.input, outputs=outputs, name=\"vgg19_tl\")\n",
    "    return model"
   ]
  },
  {
   "cell_type": "code",
   "execution_count": 97,
   "id": "dated-feature",
   "metadata": {},
   "outputs": [
    {
     "name": "stdout",
     "output_type": "stream",
     "text": [
      "Model: \"vgg19_tl\"\n",
      "_________________________________________________________________\n",
      "Layer (type)                 Output Shape              Param #   \n",
      "=================================================================\n",
      "input_1 (InputLayer)         [(None, 200, 200, 3)]     0         \n",
      "_________________________________________________________________\n",
      "block1_conv1 (Conv2D)        (None, 200, 200, 64)      1792      \n",
      "_________________________________________________________________\n",
      "block1_conv2 (Conv2D)        (None, 200, 200, 64)      36928     \n",
      "_________________________________________________________________\n",
      "block1_pool (MaxPooling2D)   (None, 100, 100, 64)      0         \n",
      "_________________________________________________________________\n",
      "block2_conv1 (Conv2D)        (None, 100, 100, 128)     73856     \n",
      "_________________________________________________________________\n",
      "block2_conv2 (Conv2D)        (None, 100, 100, 128)     147584    \n",
      "_________________________________________________________________\n",
      "block2_pool (MaxPooling2D)   (None, 50, 50, 128)       0         \n",
      "_________________________________________________________________\n",
      "block3_conv1 (Conv2D)        (None, 50, 50, 256)       295168    \n",
      "_________________________________________________________________\n",
      "block3_conv2 (Conv2D)        (None, 50, 50, 256)       590080    \n",
      "_________________________________________________________________\n",
      "block3_conv3 (Conv2D)        (None, 50, 50, 256)       590080    \n",
      "_________________________________________________________________\n",
      "block3_conv4 (Conv2D)        (None, 50, 50, 256)       590080    \n",
      "_________________________________________________________________\n",
      "block3_pool (MaxPooling2D)   (None, 25, 25, 256)       0         \n",
      "_________________________________________________________________\n",
      "block4_conv1 (Conv2D)        (None, 25, 25, 512)       1180160   \n",
      "_________________________________________________________________\n",
      "block4_conv2 (Conv2D)        (None, 25, 25, 512)       2359808   \n",
      "_________________________________________________________________\n",
      "block4_conv3 (Conv2D)        (None, 25, 25, 512)       2359808   \n",
      "_________________________________________________________________\n",
      "block4_conv4 (Conv2D)        (None, 25, 25, 512)       2359808   \n",
      "_________________________________________________________________\n",
      "block4_pool (MaxPooling2D)   (None, 12, 12, 512)       0         \n",
      "_________________________________________________________________\n",
      "block5_conv1 (Conv2D)        (None, 12, 12, 512)       2359808   \n",
      "_________________________________________________________________\n",
      "block5_conv2 (Conv2D)        (None, 12, 12, 512)       2359808   \n",
      "_________________________________________________________________\n",
      "block5_conv3 (Conv2D)        (None, 12, 12, 512)       2359808   \n",
      "_________________________________________________________________\n",
      "block5_conv4 (Conv2D)        (None, 12, 12, 512)       2359808   \n",
      "_________________________________________________________________\n",
      "block5_pool (MaxPooling2D)   (None, 6, 6, 512)         0         \n",
      "_________________________________________________________________\n",
      "flatten (Flatten)            (None, 18432)             0         \n",
      "_________________________________________________________________\n",
      "dense (Dense)                (None, 5)                 92165     \n",
      "=================================================================\n",
      "Total params: 20,116,549\n",
      "Trainable params: 92,165\n",
      "Non-trainable params: 20,024,384\n",
      "_________________________________________________________________\n"
     ]
    }
   ],
   "source": [
    "model = create_model()\n",
    "model.summary()"
   ]
  },
  {
   "cell_type": "code",
   "execution_count": 105,
   "id": "reduced-moment",
   "metadata": {},
   "outputs": [
    {
     "name": "stdout",
     "output_type": "stream",
     "text": [
      "33/33 [==============================] - 593s 18s/step - loss: 0.4948 - acc: 0.8310 - val_loss: 0.0715 - val_acc: 0.9830\n"
     ]
    }
   ],
   "source": [
    "model.compile(\n",
    "    loss = keras.losses.CategoricalCrossentropy(),\n",
    "    optimizer = keras.optimizers.Adam(lr=0.001),\n",
    "    metrics = [\"acc\"]\n",
    ")\n",
    "\n",
    "lr_reduction = keras.callbacks.ReduceLROnPlateau(\n",
    "    monitor='val_acc', \n",
    "    patience=3, \n",
    "    verbose=1, \n",
    "    factor=0.5, \n",
    "    min_lr=0.00001\n",
    ")\n",
    "\n",
    "early_stopping = keras.callbacks.EarlyStopping(\n",
    "    monitor='val_loss',\n",
    "    min_delta=0,\n",
    "    patience=5,\n",
    "    verbose=0, mode='auto'\n",
    ")\n",
    "\n",
    "history = model.fit(\n",
    "    train_set, \n",
    "    shuffle=True,\n",
    "    validation_data = test_set,\n",
    "    verbose = 1,\n",
    "    batch_size = BATCH_SIZE,\n",
    "    callbacks = [lr_reduction, early_stopping]\n",
    ")"
   ]
  },
  {
   "cell_type": "markdown",
   "id": "broken-pennsylvania",
   "metadata": {},
   "source": [
    "> **OPS!!** I really need a `GPU` \n",
    "\n",
    "\n",
    "I'm not going to train this model for a long period of time because of some `CPU` limitations, but as we can see that our model is pretty doing better on the `test` and `train` accuracy.\n",
    "\n",
    "Credits:\n",
    "\n",
    "* [rahulbana](https://www.kaggle.com/rahulbana/yoga-poses-dataset-eda-with-modeling)"
   ]
  },
  {
   "cell_type": "code",
   "execution_count": null,
   "id": "crazy-column",
   "metadata": {},
   "outputs": [],
   "source": []
  }
 ],
 "metadata": {
  "kernelspec": {
   "display_name": "Python 3",
   "language": "python",
   "name": "python3"
  },
  "language_info": {
   "codemirror_mode": {
    "name": "ipython",
    "version": 3
   },
   "file_extension": ".py",
   "mimetype": "text/x-python",
   "name": "python",
   "nbconvert_exporter": "python",
   "pygments_lexer": "ipython3",
   "version": "3.8.5"
  }
 },
 "nbformat": 4,
 "nbformat_minor": 5
}
