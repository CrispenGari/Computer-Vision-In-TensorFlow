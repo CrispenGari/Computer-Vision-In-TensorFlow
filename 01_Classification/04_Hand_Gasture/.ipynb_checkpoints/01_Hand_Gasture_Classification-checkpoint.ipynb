{
 "cells": [
  {
   "cell_type": "markdown",
   "id": "catholic-native",
   "metadata": {},
   "source": [
    "### Hand Gastures.\n",
    "\n",
    "Predicting hand gastures based on the dataset found on [Kaggle](https://www.kaggle.com/flintytub49/hand-gestures-black-and-white) which contains images of 5 classes which are black and white.\n",
    "\n",
    "\n",
    "### Imports"
   ]
  },
  {
   "cell_type": "code",
   "execution_count": null,
   "id": "hispanic-story",
   "metadata": {},
   "outputs": [],
   "source": [
    "import tensorflow as tf\n",
    "from tensorflow import keras\n",
    "import numpy as np\n",
    "import matplotlib.pyplot as plt\n",
    "from tensorflow.keras.preprocessing import image, image_dataset_from_directory"
   ]
  },
  {
   "cell_type": "markdown",
   "id": "rolled-bankruptcy",
   "metadata": {},
   "source": [
    "### Data.\n",
    "We have 5 classes of images which are:\n",
    "    \n",
    "1. Blank\n",
    "2. First\n",
    "3. ThumpUp\n",
    "4. Two\n",
    "5. Yo\n",
    "\n",
    "WE have a folder data that contain folders of each class. Basically the file structures looks as follows:\n",
    "    \n",
    "```\n",
    "data\n",
    "    - Blank\n",
    "        ..\n",
    "    - Fist\n",
    "        ..\n",
    "    - ThumpUp\n",
    "        ..\n",
    "    - Two\n",
    "        ..\n",
    "    - Yo\n",
    "        ..\n",
    "```"
   ]
  },
  {
   "cell_type": "code",
   "execution_count": null,
   "id": "brazilian-chicken",
   "metadata": {},
   "outputs": [],
   "source": [
    "datagen = image.ImageDataGenerator(\n",
    "    rescale=1.0 / 255,\n",
    "    data_format=\"channels_last\",\n",
    "    dtype=tf.float32,\n",
    "    validation_split=0.1,\n",
    ")\n",
    "\n",
    "train_ds = datagen.flow_from_directory(\n",
    "    'data',\n",
    "    target_size=(224, 224),\n",
    "    color_mode='grayscale',\n",
    "    class_mode='categorical',\n",
    "    batch_size=32,\n",
    "    shuffle=True,\n",
    "    seed=42,\n",
    "    subset='training',\n",
    "    interpolation='nearest',\n",
    ")\n",
    "validation_ds = datagen.flow_from_directory(\n",
    "    'data',\n",
    "    target_size=(224, 224),\n",
    "    color_mode='grayscale',\n",
    "    class_mode='categorical',\n",
    "    batch_size=32,\n",
    "    shuffle=True,\n",
    "    seed=42,\n",
    "    subset='validation',\n",
    "    interpolation='nearest',\n",
    ")"
   ]
  },
  {
   "cell_type": "markdown",
   "id": "lovely-milan",
   "metadata": {},
   "source": [
    "### Class Names"
   ]
  },
  {
   "cell_type": "code",
   "execution_count": null,
   "id": "neither-least",
   "metadata": {},
   "outputs": [],
   "source": [
    "train_ds.class_indices"
   ]
  },
  {
   "cell_type": "code",
   "execution_count": null,
   "id": "speaking-substance",
   "metadata": {},
   "outputs": [],
   "source": [
    "classes = dict([(v, k) for (k, v) in train_ds.class_indices.items() ])"
   ]
  },
  {
   "cell_type": "markdown",
   "id": "corporate-vietnam",
   "metadata": {},
   "source": [
    "### Displaying some images"
   ]
  },
  {
   "cell_type": "code",
   "execution_count": null,
   "id": "given-madagascar",
   "metadata": {},
   "outputs": [],
   "source": [
    "for batch in train_ds:\n",
    "    break"
   ]
  },
  {
   "cell_type": "code",
   "execution_count": null,
   "id": "opposite-champion",
   "metadata": {},
   "outputs": [],
   "source": [
    "batch[1][1]"
   ]
  },
  {
   "cell_type": "code",
   "execution_count": null,
   "id": "infinite-equality",
   "metadata": {},
   "outputs": [],
   "source": [
    "def plot_images(images, labels_true, cols=5):\n",
    "    rows = 3\n",
    "    fig = plt.figure()\n",
    "    fig.set_size_inches(cols * 2, rows * 2)\n",
    "    labels_true = np.argmax(labels_true, axis=1)\n",
    "    for i, (image, label_true) in enumerate(zip(images, labels_true)):\n",
    "        plt.subplot(rows, cols, i + 1)\n",
    "        plt.axis('off')\n",
    "        plt.imshow(image, cmap=\"gray\")\n",
    "        plt.title(classes[label_true], color ='g', fontsize=16 )\n",
    "\n",
    "plot_images(batch[0][:24], batch[1][:24], cols=8)"
   ]
  },
  {
   "cell_type": "code",
   "execution_count": null,
   "id": "twenty-living",
   "metadata": {},
   "outputs": [],
   "source": [
    "batch[0].shape"
   ]
  },
  {
   "cell_type": "markdown",
   "id": "retired-thumbnail",
   "metadata": {},
   "source": [
    "### Creating a `NN`\n",
    "The `NN` achitecture will look as follows:\n",
    "\n",
    "```\n",
    "        [ ConvBlock ] -> Conv2D -> BatchNormalization -> ReLU -> MaxPooling2D -> Dropout \n",
    "             |\n",
    "             |\n",
    "        [Flatten Layer / GlobalMaxPooling2D]\n",
    "             |\n",
    "        [Output Block] -> Dense Layers\n",
    "```"
   ]
  },
  {
   "cell_type": "code",
   "execution_count": null,
   "id": "downtown-hours",
   "metadata": {},
   "outputs": [],
   "source": [
    "class ConvBlock(keras.layers.Layer):\n",
    "    def __init__(self, in_features, kernel_size=(3,3), dropout=.5):\n",
    "        super(ConvBlock, self).__init__()\n",
    "        self.conv        = keras.layers.Conv2D(in_features, kernel_size=kernel_size, padding='same')\n",
    "        self.bn          = keras.layers.BatchNormalization()\n",
    "        self.relu        = keras.layers.ReLU()\n",
    "        self.max_pool_2d = keras.layers.MaxPooling2D()\n",
    "        self.dropout     = keras.layers.Dropout(dropout)\n",
    "        \n",
    "    def call(self, in_tensor, training=False):\n",
    "        x = self.conv(in_tensor)\n",
    "        x = self.bn(x, training=training)\n",
    "        x = self.relu(x)\n",
    "        x = self.max_pool_2d(x)\n",
    "        return self.dropout(x)\n",
    "        "
   ]
  },
  {
   "cell_type": "code",
   "execution_count": null,
   "id": "actual-request",
   "metadata": {},
   "outputs": [],
   "source": [
    "\n",
    "model = keras.Sequential([\n",
    "    keras.layers.Input(shape=(224, 224, 1)),\n",
    "    ConvBlock(64, kernel_size=(3,3), dropout=.5),\n",
    "    ConvBlock(512, kernel_size=(3,3), dropout=.2),\n",
    "    ConvBlock(128, kernel_size=(3,3), dropout=.3),\n",
    "    keras.layers.Flatten(),\n",
    "    keras.layers.Dense(512, activation='relu'),\n",
    "    keras.layers.Dense(5, activation='softmax')\n",
    "], name=\"hand_gesture_model\")\n",
    "\n",
    "model.summary()"
   ]
  },
  {
   "cell_type": "markdown",
   "id": "jewish-premises",
   "metadata": {},
   "source": [
    "### Trainning the model."
   ]
  },
  {
   "cell_type": "code",
   "execution_count": null,
   "id": "official-thickness",
   "metadata": {},
   "outputs": [],
   "source": [
    "model.compile(\n",
    "    loss = keras.losses.SparseCategoricalCrossentropy(from_logits=False),\n",
    "    optimizer = keras.optimizers.Adam(),\n",
    "    metrics = [\"acc\"]\n",
    ")\n",
    "\n",
    "lr_reduction = keras.callbacks.ReduceLROnPlateau(\n",
    "    monitor='val_acc', \n",
    "    patience=3, \n",
    "    verbose=1, \n",
    "    factor=0.5, \n",
    "    min_lr=0.00001\n",
    ")\n",
    "\n",
    "early_stopping = keras.callbacks.EarlyStopping(\n",
    "    monitor='val_loss',\n",
    "    min_delta=0,\n",
    "    patience=5,\n",
    "    verbose=0, mode='auto'\n",
    ")\n",
    "\n",
    "history = model.fit(\n",
    "    train_ds,\n",
    "    batch_size=32,\n",
    "    epochs =5,\n",
    "    validation_data = train_ds,\n",
    "    verbose = 1,\n",
    "    shuffle=True,\n",
    "    callbacks = [lr_reduction, early_stopping]\n",
    ")"
   ]
  },
  {
   "cell_type": "code",
   "execution_count": null,
   "id": "original-citation",
   "metadata": {},
   "outputs": [],
   "source": []
  },
  {
   "cell_type": "code",
   "execution_count": null,
   "id": "proof-baghdad",
   "metadata": {},
   "outputs": [],
   "source": []
  },
  {
   "cell_type": "code",
   "execution_count": null,
   "id": "dying-constitution",
   "metadata": {},
   "outputs": [],
   "source": []
  },
  {
   "cell_type": "code",
   "execution_count": null,
   "id": "interracial-workshop",
   "metadata": {},
   "outputs": [],
   "source": []
  },
  {
   "cell_type": "code",
   "execution_count": null,
   "id": "later-photographer",
   "metadata": {},
   "outputs": [],
   "source": []
  }
 ],
 "metadata": {
  "kernelspec": {
   "display_name": "Python 3",
   "language": "python",
   "name": "python3"
  },
  "language_info": {
   "codemirror_mode": {
    "name": "ipython",
    "version": 3
   },
   "file_extension": ".py",
   "mimetype": "text/x-python",
   "name": "python",
   "nbconvert_exporter": "python",
   "pygments_lexer": "ipython3",
   "version": "3.8.5"
  }
 },
 "nbformat": 4,
 "nbformat_minor": 5
}
